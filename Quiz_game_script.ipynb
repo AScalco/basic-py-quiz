{
 "cells": [
  {
   "cell_type": "markdown",
   "metadata": {},
   "source": [
    "# A basic Python programme for quiz games"
   ]
  },
  {
   "cell_type": "code",
   "execution_count": 6,
   "metadata": {},
   "outputs": [],
   "source": [
    "# Apparently the safest way to import a string and convert into a dict is to use function \"literal_eval\" from ast\n",
    "# More on the subject; https://nedbatchelder.com/blog/201206/eval_really_is_dangerous.html\n",
    "from ast import literal_eval\n",
    "\n",
    "# To clear the display on Jupiter a function from IPython is required\n",
    "from IPython.display import clear_output"
   ]
  },
  {
   "cell_type": "code",
   "execution_count": 7,
   "metadata": {},
   "outputs": [],
   "source": [
    "# Init user's score\n",
    "user_score = 0\n",
    "\n",
    "# Init questions, answers and their score\n",
    "Q = \"\"\n",
    "Q_A = \"\"\n",
    "Q_B = \"\"\n",
    "Q_C = \"\"\n",
    "Q_scores = {} # A dictionary like: {\"A\":10, \"B\":20, \"C\":30}"
   ]
  },
  {
   "cell_type": "code",
   "execution_count": 8,
   "metadata": {},
   "outputs": [],
   "source": [
    "def next_question():\n",
    "    #\"\"\"Set the question, answers, and their scores using global vars\"\"\"\n",
    "    global Q \n",
    "    Q = text_file.readline()\n",
    "    global Q_A\n",
    "    Q_A = text_file.readline()\n",
    "    global Q_B\n",
    "    Q_B = text_file.readline()\n",
    "    global Q_C\n",
    "    Q_C = text_file.readline()\n",
    "    global Q_scores\n",
    "    Q_scores = (text_file.readline())\n",
    "    Q_scores = literal_eval(Q_scores)\n",
    "    # check the type of Q_scores: is it dict?\n",
    "    # type(Q_scores) # yep!"
   ]
  },
  {
   "cell_type": "code",
   "execution_count": 9,
   "metadata": {},
   "outputs": [],
   "source": [
    "def check_answer_validity():\n",
    "    \"\"\" Check the user's answer is a A, B, or C otherwise ask again\"\"\"\n",
    "    # Use the global var\n",
    "    global user_answer\n",
    "    while ((user_answer.upper() != \"A\")) or ((user_answer.upper() != \"B\")) or ((user_answer.upper() != \"C\")):\n",
    "        if (user_answer.upper() in (\"A\", \"B\", \"C\")):\n",
    "            print(\"Thanks!\")\n",
    "            break\n",
    "        else:\n",
    "            print(\"Please, type one option: A, B, or C\")\n",
    "            user_answer = input()"
   ]
  },
  {
   "cell_type": "code",
   "execution_count": 12,
   "metadata": {},
   "outputs": [
    {
     "name": "stdout",
     "output_type": "stream",
     "text": [
      "-----------------------------------\n",
      "Users final score is:  30\n",
      "-----------------------------------\n"
     ]
    }
   ],
   "source": [
    "# Import questions, answers and their score from txt file\n",
    "text_file = open(\"Quiz-questions.txt\", \"r\")\n",
    "#print(text_file.read()) # Check text file\n",
    "\n",
    "# Init question index\n",
    "q_index = 1\n",
    "# If the quiz it is not over, retrieve next question\n",
    "while (q_index <= 3):        # Assuming there will be 3 questions\n",
    "    # Retrieve next questions, answers, and scores using next_question() function\n",
    "    next_question()\n",
    "    # Update the question index\n",
    "    q_index = q_index + 1\n",
    "    # Clean the output\n",
    "    clear_output()\n",
    "    # Display the question\n",
    "    print(Q)\n",
    "    # Display the answers\n",
    "    print(\"\\n\", Q_A,\"\\n\", Q_B,\"\\n\", Q_C) # answers\n",
    "    # Ask user to choose an option\n",
    "    print(\"Please, type one option: A, B, or C\")\n",
    "    user_answer = input()\n",
    "    # Check answer validity \n",
    "    check_answer_validity()\n",
    "    # Check the score of the answer and add to the user's score\n",
    "    for answer in Q_scores:\n",
    "        if answer == (user_answer.upper()):\n",
    "            print(Q_scores[str(answer)])\n",
    "            user_score = user_score + Q_scores[str(answer)]\n",
    "        else:\n",
    "            next\n",
    "else:\n",
    "    # Clean the output\n",
    "    clear_output()\n",
    "    # Display the final user score\n",
    "    print(\"-----------------------------------\")\n",
    "    print(\"Users final score is: \", user_score)\n",
    "    print(\"-----------------------------------\")\n",
    "    # Close txt file\n",
    "    open(\"Quiz-questions.txt\", \"r\")\n",
    "    # Reset user score\n",
    "    user_score = 0"
   ]
  }
 ],
 "metadata": {
  "kernelspec": {
   "display_name": "Python 3",
   "language": "python",
   "name": "python3"
  },
  "language_info": {
   "codemirror_mode": {
    "name": "ipython",
    "version": 3
   },
   "file_extension": ".py",
   "mimetype": "text/x-python",
   "name": "python",
   "nbconvert_exporter": "python",
   "pygments_lexer": "ipython3",
   "version": "3.7.3"
  }
 },
 "nbformat": 4,
 "nbformat_minor": 2
}
